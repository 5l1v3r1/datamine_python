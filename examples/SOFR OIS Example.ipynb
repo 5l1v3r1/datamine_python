{
 "cells": [
  {
   "cell_type": "markdown",
   "metadata": {
    "collapsed": true
   },
   "source": [
    "# SOFR Strip Term Rates Example Notebook\n",
    "\n",
    "This workbook will demonstrate using the datamine python package to retrieve CME SOFR Strip Term Rates.\n",
    "\n",
    "This is a working example for reference and is a starting point for more advanced use cases.  This workbook will demonstrate the following workflow\n",
    "1. Credentialling into Datamine.\n",
    "2. Retrieving your data catalog of SOFR Strip Term Rates. \n",
    "3. Visualize the SOFR Strip Rates data.\n",
    "3. Export the aggregate data into CSV file / Excel.\n"
   ]
  },
  {
   "cell_type": "code",
   "execution_count": 85,
   "metadata": {},
   "outputs": [],
   "source": [
    "import datamine.io as dm\n",
    "import pandas as pd\n",
    "from pandas.core.common import SettingWithCopyWarning\n",
    "import matplotlib.pyplot as plt\n",
    "import matplotlib.dates as mdates\n",
    "from matplotlib import style\n",
    "import warnings\n",
    "warnings.simplefilter(action='ignore', category=SettingWithCopyWarning)\n",
    "\n",
    "style.use('fivethirtyeight')\n",
    "%matplotlib inline"
   ]
  },
  {
   "cell_type": "code",
   "execution_count": 86,
   "metadata": {},
   "outputs": [],
   "source": [
    "#Establish an object to interact with CME Datamine.\n",
    "#Supply Credentials per Documentation: http://www.cmegroup.com/market-data/datamine-api.html\n",
    "myDatamine = dm.DatamineCon(username='API_SECDEV', password='Dec2019^', path='../data/')"
   ]
  },
  {
   "cell_type": "markdown",
   "metadata": {},
   "source": [
    "## Get Your Catalog of SOFR Strip Rate Data\n",
    "\n",
    "Datamine hosts all your subscriptions for download which you can see in the GUI.  https://datamine.cmegroup.com/\n",
    "\n",
    "The following code will download a catalog of all your items.  We will turn that into a Pandas DataFrame to see what data we have in our account.\n"
   ]
  },
  {
   "cell_type": "code",
   "execution_count": 77,
   "metadata": {},
   "outputs": [
    {
     "name": "stderr",
     "output_type": "stream",
     "text": [
      "get_catalog: retrieving SOFR, limit None\n",
      "get_catalog: 2424 records downloaded, 0 duplicates, 2424 saved\n"
     ]
    }
   ],
   "source": [
    "#Get your data catalog from Datamine\n",
    "myDatamine.get_catalog(dataset='SOFR')"
   ]
  },
  {
   "cell_type": "markdown",
   "metadata": {},
   "source": [
    "## Using the Data \n",
    "\n",
    "The following will show you example of how the Datamine python module can be used to copy down the data from the cloud to your local computer.  \n",
    "\n",
    "This routine will download the data to the /data/* folder for each specific data set.  This routine copies everything down and overwrites anything locally.  This routine will take time depending upon the amount of data on the cloud that your trying to pull down.  The pulls are multithreaded to speed them up; you can adjust this by adjusting the processes in the MyDatamine object.\n",
    "\n",
    "```myDatamine.processes = 4```"
   ]
  },
  {
   "cell_type": "markdown",
   "metadata": {},
   "source": [
    "### Load Data\n",
    "\n",
    "The following section will download the SOFR OIS from Datamine, load the data into a properly typed Pandas DataFrame.  If this is the first time, there many be a lot of historical data avaliable that must be downloaded from Datamine to your local machine.  The downloads are multithreaded to speed up the I/O.  You can also specify 'download=False' in the function which will read the data from your local machine only.  \n",
    "\n",
    "Load from Disk Only:\n",
    "```myDatamine.sofrois_load(download=False)```"
   ]
  },
  {
   "cell_type": "code",
   "execution_count": 124,
   "metadata": {},
   "outputs": [
    {
     "name": "stderr",
     "output_type": "stream",
     "text": [
      "reading SOFR data: 100%|██████████| 2424/2424 [00:11<00:00, 218.57it/s]\n",
      "concatenating 2424 dataframes\n"
     ]
    }
   ],
   "source": [
    "# Load the SOFR term rates from datamine cloud and structure into dataframe of myDatamine.sofrsr_DF.  \n",
    "myDatamine.sofrois_load(download=False)"
   ]
  },
  {
   "cell_type": "code",
   "execution_count": 125,
   "metadata": {},
   "outputs": [
    {
     "data": {
      "text/html": [
       "<div>\n",
       "<style scoped>\n",
       "    .dataframe tbody tr th:only-of-type {\n",
       "        vertical-align: middle;\n",
       "    }\n",
       "\n",
       "    .dataframe tbody tr th {\n",
       "        vertical-align: top;\n",
       "    }\n",
       "\n",
       "    .dataframe thead th {\n",
       "        text-align: right;\n",
       "    }\n",
       "</style>\n",
       "<table border=\"1\" class=\"dataframe\">\n",
       "  <thead>\n",
       "    <tr style=\"text-align: right;\">\n",
       "      <th></th>\n",
       "      <th>Trade Date</th>\n",
       "      <th>Exchange Code</th>\n",
       "      <th>Currency</th>\n",
       "      <th>Commodity Code</th>\n",
       "      <th>Short Description</th>\n",
       "      <th>Long Description</th>\n",
       "      <th>Curve Date</th>\n",
       "      <th>Offset</th>\n",
       "      <th>Discount Factor</th>\n",
       "      <th>Forward rate</th>\n",
       "      <th>Rate</th>\n",
       "    </tr>\n",
       "  </thead>\n",
       "  <tbody>\n",
       "    <tr>\n",
       "      <th>0</th>\n",
       "      <td>2008-09-02 00:00:00+00:00</td>\n",
       "      <td>XCME</td>\n",
       "      <td>USD</td>\n",
       "      <td>NaN</td>\n",
       "      <td>NaN</td>\n",
       "      <td>USD-SOFR-OIS-COMPOUND 1D</td>\n",
       "      <td>20080903</td>\n",
       "      <td>1</td>\n",
       "      <td>0.999953</td>\n",
       "      <td>NaN</td>\n",
       "      <td>0.017311</td>\n",
       "    </tr>\n",
       "    <tr>\n",
       "      <th>1</th>\n",
       "      <td>2008-09-02 00:00:00+00:00</td>\n",
       "      <td>XCME</td>\n",
       "      <td>USD</td>\n",
       "      <td>NaN</td>\n",
       "      <td>NaN</td>\n",
       "      <td>USD-SOFR-OIS-COMPOUND 1D</td>\n",
       "      <td>20080904</td>\n",
       "      <td>2</td>\n",
       "      <td>0.999903</td>\n",
       "      <td>NaN</td>\n",
       "      <td>0.017656</td>\n",
       "    </tr>\n",
       "    <tr>\n",
       "      <th>2</th>\n",
       "      <td>2008-09-02 00:00:00+00:00</td>\n",
       "      <td>XCME</td>\n",
       "      <td>USD</td>\n",
       "      <td>NaN</td>\n",
       "      <td>NaN</td>\n",
       "      <td>USD-SOFR-OIS-COMPOUND 1D</td>\n",
       "      <td>20080905</td>\n",
       "      <td>3</td>\n",
       "      <td>0.999854</td>\n",
       "      <td>NaN</td>\n",
       "      <td>0.017772</td>\n",
       "    </tr>\n",
       "    <tr>\n",
       "      <th>3</th>\n",
       "      <td>2008-09-02 00:00:00+00:00</td>\n",
       "      <td>XCME</td>\n",
       "      <td>USD</td>\n",
       "      <td>NaN</td>\n",
       "      <td>NaN</td>\n",
       "      <td>USD-SOFR-OIS-COMPOUND 1D</td>\n",
       "      <td>20081202</td>\n",
       "      <td>91</td>\n",
       "      <td>0.995503</td>\n",
       "      <td>NaN</td>\n",
       "      <td>0.018090</td>\n",
       "    </tr>\n",
       "    <tr>\n",
       "      <th>4</th>\n",
       "      <td>2008-09-02 00:00:00+00:00</td>\n",
       "      <td>XCME</td>\n",
       "      <td>USD</td>\n",
       "      <td>NaN</td>\n",
       "      <td>NaN</td>\n",
       "      <td>USD-SOFR-OIS-COMPOUND 1D</td>\n",
       "      <td>20090304</td>\n",
       "      <td>183</td>\n",
       "      <td>0.990933</td>\n",
       "      <td>NaN</td>\n",
       "      <td>0.018180</td>\n",
       "    </tr>\n",
       "  </tbody>\n",
       "</table>\n",
       "</div>"
      ],
      "text/plain": [
       "                 Trade Date Exchange Code Currency Commodity Code  \\\n",
       "0 2008-09-02 00:00:00+00:00          XCME      USD            NaN   \n",
       "1 2008-09-02 00:00:00+00:00          XCME      USD            NaN   \n",
       "2 2008-09-02 00:00:00+00:00          XCME      USD            NaN   \n",
       "3 2008-09-02 00:00:00+00:00          XCME      USD            NaN   \n",
       "4 2008-09-02 00:00:00+00:00          XCME      USD            NaN   \n",
       "\n",
       "  Short Description          Long Description Curve Date  Offset  \\\n",
       "0               NaN  USD-SOFR-OIS-COMPOUND 1D   20080903       1   \n",
       "1               NaN  USD-SOFR-OIS-COMPOUND 1D   20080904       2   \n",
       "2               NaN  USD-SOFR-OIS-COMPOUND 1D   20080905       3   \n",
       "3               NaN  USD-SOFR-OIS-COMPOUND 1D   20081202      91   \n",
       "4               NaN  USD-SOFR-OIS-COMPOUND 1D   20090304     183   \n",
       "\n",
       "   Discount Factor Forward rate      Rate  \n",
       "0         0.999953          NaN  0.017311  \n",
       "1         0.999903          NaN  0.017656  \n",
       "2         0.999854          NaN  0.017772  \n",
       "3         0.995503          NaN  0.018090  \n",
       "4         0.990933          NaN  0.018180  "
      ]
     },
     "execution_count": 125,
     "metadata": {},
     "output_type": "execute_result"
    }
   ],
   "source": [
    "#look at the data frame\n",
    "myDatamine.sofrois_DF.head()"
   ]
  },
  {
   "cell_type": "markdown",
   "metadata": {},
   "source": [
    "## Review Single Day of OIS Curve\n",
    "\n",
    "Since we loaded all the historical data, we will look at a single day of data.  "
   ]
  },
  {
   "cell_type": "code",
   "execution_count": 126,
   "metadata": {},
   "outputs": [],
   "source": [
    "DF = myDatamine.sofrois_DF.copy()\n",
    "DF['Trade Date'] = DF['Trade Date'].dt.date  # Convert this to a simple date."
   ]
  },
  {
   "cell_type": "code",
   "execution_count": 127,
   "metadata": {
    "scrolled": true
   },
   "outputs": [
    {
     "data": {
      "text/html": [
       "<div>\n",
       "<style scoped>\n",
       "    .dataframe tbody tr th:only-of-type {\n",
       "        vertical-align: middle;\n",
       "    }\n",
       "\n",
       "    .dataframe tbody tr th {\n",
       "        vertical-align: top;\n",
       "    }\n",
       "\n",
       "    .dataframe thead th {\n",
       "        text-align: right;\n",
       "    }\n",
       "</style>\n",
       "<table border=\"1\" class=\"dataframe\">\n",
       "  <thead>\n",
       "    <tr style=\"text-align: right;\">\n",
       "      <th></th>\n",
       "      <th>Trade Date</th>\n",
       "      <th>Exchange Code</th>\n",
       "      <th>Currency</th>\n",
       "      <th>Commodity Code</th>\n",
       "      <th>Short Description</th>\n",
       "      <th>Long Description</th>\n",
       "      <th>Curve Date</th>\n",
       "      <th>Offset</th>\n",
       "      <th>Discount Factor</th>\n",
       "      <th>Forward rate</th>\n",
       "      <th>Rate</th>\n",
       "    </tr>\n",
       "  </thead>\n",
       "  <tbody>\n",
       "    <tr>\n",
       "      <th>58171</th>\n",
       "      <td>2018-05-04</td>\n",
       "      <td>XCME</td>\n",
       "      <td>USD</td>\n",
       "      <td>NaN</td>\n",
       "      <td>NaN</td>\n",
       "      <td>USD-SOFR-OIS-COMPOUND 1D</td>\n",
       "      <td>2030-05-04</td>\n",
       "      <td>4383</td>\n",
       "      <td>0.723380</td>\n",
       "      <td>NaN</td>\n",
       "      <td>0.026985</td>\n",
       "    </tr>\n",
       "    <tr>\n",
       "      <th>58172</th>\n",
       "      <td>2018-05-04</td>\n",
       "      <td>XCME</td>\n",
       "      <td>USD</td>\n",
       "      <td>NaN</td>\n",
       "      <td>NaN</td>\n",
       "      <td>USD-SOFR-OIS-COMPOUND 1D</td>\n",
       "      <td>2033-05-04</td>\n",
       "      <td>5479</td>\n",
       "      <td>0.665670</td>\n",
       "      <td>NaN</td>\n",
       "      <td>0.027130</td>\n",
       "    </tr>\n",
       "    <tr>\n",
       "      <th>58173</th>\n",
       "      <td>2018-05-04</td>\n",
       "      <td>XCME</td>\n",
       "      <td>USD</td>\n",
       "      <td>NaN</td>\n",
       "      <td>NaN</td>\n",
       "      <td>USD-SOFR-OIS-COMPOUND 1D</td>\n",
       "      <td>2038-05-04</td>\n",
       "      <td>7305</td>\n",
       "      <td>0.581940</td>\n",
       "      <td>NaN</td>\n",
       "      <td>0.027069</td>\n",
       "    </tr>\n",
       "    <tr>\n",
       "      <th>58174</th>\n",
       "      <td>2018-05-04</td>\n",
       "      <td>XCME</td>\n",
       "      <td>USD</td>\n",
       "      <td>NaN</td>\n",
       "      <td>NaN</td>\n",
       "      <td>USD-SOFR-OIS-COMPOUND 1D</td>\n",
       "      <td>2043-05-04</td>\n",
       "      <td>9131</td>\n",
       "      <td>0.511265</td>\n",
       "      <td>NaN</td>\n",
       "      <td>0.026835</td>\n",
       "    </tr>\n",
       "    <tr>\n",
       "      <th>58175</th>\n",
       "      <td>2018-05-04</td>\n",
       "      <td>XCME</td>\n",
       "      <td>USD</td>\n",
       "      <td>NaN</td>\n",
       "      <td>NaN</td>\n",
       "      <td>USD-SOFR-OIS-COMPOUND 1D</td>\n",
       "      <td>2048-05-04</td>\n",
       "      <td>10958</td>\n",
       "      <td>0.452174</td>\n",
       "      <td>NaN</td>\n",
       "      <td>0.026455</td>\n",
       "    </tr>\n",
       "  </tbody>\n",
       "</table>\n",
       "</div>"
      ],
      "text/plain": [
       "       Trade Date Exchange Code Currency Commodity Code Short Description  \\\n",
       "58171  2018-05-04          XCME      USD            NaN               NaN   \n",
       "58172  2018-05-04          XCME      USD            NaN               NaN   \n",
       "58173  2018-05-04          XCME      USD            NaN               NaN   \n",
       "58174  2018-05-04          XCME      USD            NaN               NaN   \n",
       "58175  2018-05-04          XCME      USD            NaN               NaN   \n",
       "\n",
       "               Long Description Curve Date  Offset  Discount Factor  \\\n",
       "58171  USD-SOFR-OIS-COMPOUND 1D 2030-05-04    4383         0.723380   \n",
       "58172  USD-SOFR-OIS-COMPOUND 1D 2033-05-04    5479         0.665670   \n",
       "58173  USD-SOFR-OIS-COMPOUND 1D 2038-05-04    7305         0.581940   \n",
       "58174  USD-SOFR-OIS-COMPOUND 1D 2043-05-04    9131         0.511265   \n",
       "58175  USD-SOFR-OIS-COMPOUND 1D 2048-05-04   10958         0.452174   \n",
       "\n",
       "      Forward rate      Rate  \n",
       "58171          NaN  0.026985  \n",
       "58172          NaN  0.027130  \n",
       "58173          NaN  0.027069  \n",
       "58174          NaN  0.026835  \n",
       "58175          NaN  0.026455  "
      ]
     },
     "execution_count": 127,
     "metadata": {},
     "output_type": "execute_result"
    }
   ],
   "source": [
    "mapper = DF['Trade Date'] == DF['Trade Date'].max()\n",
    "oneDayDF = DF.loc[mapper]\n",
    "oneDayDF['Curve Date'] = pd.to_datetime(oneDayDF['Curve Date'].astype(int),format='%Y%m%d')\n",
    "oneDayDF.tail()"
   ]
  },
  {
   "cell_type": "code",
   "execution_count": 128,
   "metadata": {},
   "outputs": [
    {
     "data": {
      "image/png": "[encoded data removed]",
      "text/plain": [
       "<Figure size 1080x360 with 1 Axes>"
      ]
     },
     "metadata": {},
     "output_type": "display_data"
    }
   ],
   "source": [
    "#Graph of Data\n",
    "oneDayDF[['Curve Date','Discount Factor']].set_index('Curve Date').plot(figsize=[15,5], marker='D',markersize=10,linestyle='None')\n",
    "plt.title('SOFR OIS Discount Factor Values for %s' % oneDayDF['Trade Date'].max() )\n",
    "plt.xlabel('Offset')\n",
    "plt.ylabel('Discount Factor')\n",
    "plt.style.use('fivethirtyeight')\n",
    "plt.savefig('./images/SOFROISCurve.png')\n",
    "plt.show()"
   ]
  },
  {
   "cell_type": "code",
   "execution_count": 129,
   "metadata": {},
   "outputs": [
    {
     "data": {
      "image/png": "[encoded data removed]",
      "text/plain": [
       "<Figure size 1080x360 with 1 Axes>"
      ]
     },
     "metadata": {},
     "output_type": "display_data"
    }
   ],
   "source": [
    "#Graph of Data\n",
    "oneDayDF[['Curve Date','Discount Factor']].set_index('Curve Date').plot(figsize=[15,5], marker='D',markersize=10,linestyle=':')\n",
    "plt.title('SOFR OIS Discount Factor Curve (Graphically Implied) for %s' % oneDayDF['Trade Date'].max() )\n",
    "plt.xlabel('Offset')\n",
    "plt.ylabel('Discount Factor')\n",
    "plt.style.use('fivethirtyeight')\n",
    "plt.savefig('./images/SOFROISCurve.png')\n",
    "plt.show()"
   ]
  },
  {
   "cell_type": "code",
   "execution_count": null,
   "metadata": {},
   "outputs": [],
   "source": []
  },
  {
   "cell_type": "markdown",
   "metadata": {},
   "source": [
    "## Export to Local CSV\n",
    "\n",
    "\n"
   ]
  },
  {
   "cell_type": "code",
   "execution_count": 170,
   "metadata": {},
   "outputs": [],
   "source": [
    "myDatamine.sofrois_DF.to_csv('CME_OIS.csv')"
   ]
  },
  {
   "cell_type": "code",
   "execution_count": null,
   "metadata": {},
   "outputs": [],
   "source": []
  }
 ],
 "metadata": {
  "kernelspec": {
   "display_name": "Python 3",
   "language": "python",
   "name": "python3"
  },
  "language_info": {
   "codemirror_mode": {
    "name": "ipython",
    "version": 3
   },
   "file_extension": ".py",
   "mimetype": "text/x-python",
   "name": "python",
   "nbconvert_exporter": "python",
   "pygments_lexer": "ipython3",
   "version": "3.8.0"
  }
 },
 "nbformat": 4,
 "nbformat_minor": 1
}
